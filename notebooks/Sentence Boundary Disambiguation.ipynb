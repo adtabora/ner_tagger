{
 "cells": [
  {
   "cell_type": "markdown",
   "metadata": {},
   "source": [
    "# Intro\n",
    "\n",
    "This notebook tries to explore the problem of sentence segmentation or sentence boundary disambiguation.  It also will correct the EEUU problems found in the text"
   ]
  },
  {
   "cell_type": "markdown",
   "metadata": {},
   "source": [
    "# Sentence boundary disambiguation"
   ]
  },
  {
   "cell_type": "code",
   "execution_count": 1,
   "metadata": {
    "collapsed": true
   },
   "outputs": [],
   "source": [
    "from nltk.tokenize import sent_tokenize"
   ]
  },
  {
   "cell_type": "code",
   "execution_count": 4,
   "metadata": {
    "collapsed": false
   },
   "outputs": [
    {
     "name": "stdout",
     "output_type": "stream",
     "text": [
      "5\n"
     ]
    },
    {
     "data": {
      "text/plain": [
       "[\"this's a sent tokenize test.\",\n",
       " 'this is sent two.',\n",
       " 'is this sent three?',\n",
       " 'sent 4 is cool!',\n",
       " \"Now it's your turn.\"]"
      ]
     },
     "execution_count": 4,
     "metadata": {},
     "output_type": "execute_result"
    }
   ],
   "source": [
    "text = \"this's a sent tokenize test. this is sent two. is this sent three? sent 4 is cool! Now it's your turn.\"\n",
    "sent_tokenize_list = sent_tokenize(text)\n",
    "print len(sent_tokenize_list)\n",
    "\n",
    "sent_tokenize_list"
   ]
  },
  {
   "cell_type": "code",
   "execution_count": 12,
   "metadata": {
    "collapsed": false
   },
   "outputs": [
    {
     "name": "stdout",
     "output_type": "stream",
     "text": [
      "6\n"
     ]
    },
    {
     "data": {
      "text/plain": [
       "[u'Corea del Norte lanz\\xf3 un misil bal\\xedstico este viernes, seg\\xfan le confirm\\xf3 a CNN el vocero del Pent\\xe1gono, el capital Jeff Davis.',\n",
       " u'EE.UU.',\n",
       " u'detect\\xf3 el lanzamiento a las 10:45 EDT.',\n",
       " u'El jefe de gabinete de Jap\\xf3n, Yoshihide Suga, dio una rueda de prensa este s\\xe1bado (hora local) y dijo que el misil que lanz\\xf3 Corea del Norte probablemente vol\\xf3 por 45 minutos.',\n",
       " u'Suga les dijo a los reporteros que no hay da\\xf1o alguno a nav\\xedos o aeronaves.',\n",
       " u'El funcionario agreg\\xf3 que se cree que el misil cay\\xf3 en una zona econ\\xf3mica exclusiva de Jap\\xf3n.']"
      ]
     },
     "execution_count": 12,
     "metadata": {},
     "output_type": "execute_result"
    }
   ],
   "source": [
    "text = u\"Corea del Norte lanzó un misil balístico este viernes, según le confirmó a CNN el vocero del Pentágono, \\\n",
    "el capital Jeff Davis. EE.UU. detectó el lanzamiento a las 10:45 EDT.\\n\\\n",
    "El jefe de gabinete de Japón, Yoshihide Suga, dio una rueda de prensa este sábado (hora local) y dijo que el misil \\\n",
    "que lanzó Corea del Norte probablemente voló por 45 minutos.\\n\\\n",
    "Suga les dijo a los reporteros que no hay daño alguno a navíos o aeronaves.\\\n",
    " El funcionario agregó que se cree que el misil cayó en una zona económica exclusiva de Japón.\"\n",
    "sent_tokenize_list = sent_tokenize(text)\n",
    "print len(sent_tokenize_list)\n",
    "\n",
    "sent_tokenize_list"
   ]
  },
  {
   "cell_type": "code",
   "execution_count": 14,
   "metadata": {
    "collapsed": true
   },
   "outputs": [],
   "source": [
    "import pandas as pd \n",
    "import numpy as np\n",
    "import bs4 #beautiful soup"
   ]
  },
  {
   "cell_type": "code",
   "execution_count": 16,
   "metadata": {
    "collapsed": false
   },
   "outputs": [],
   "source": [
    "base_df = pd.read_csv(\"../files/articles.csv\") "
   ]
  },
  {
   "cell_type": "code",
   "execution_count": 17,
   "metadata": {
    "collapsed": false
   },
   "outputs": [
    {
     "data": {
      "text/html": [
       "<div>\n",
       "<table border=\"1\" class=\"dataframe\">\n",
       "  <thead>\n",
       "    <tr style=\"text-align: right;\">\n",
       "      <th></th>\n",
       "      <th>id</th>\n",
       "      <th>date</th>\n",
       "      <th>title</th>\n",
       "      <th>content</th>\n",
       "      <th>tags</th>\n",
       "    </tr>\n",
       "  </thead>\n",
       "  <tbody>\n",
       "    <tr>\n",
       "      <th>0</th>\n",
       "      <td>post-80480</td>\n",
       "      <td>28 Dic, 2009 - 7:27 pm</td>\n",
       "      <td>Auditoría revela irregularidades en el Parlacen</td>\n",
       "      <td>&lt;div class=\"article-post-content\"&gt;&lt;p&gt;&lt;strong&gt;&lt;...</td>\n",
       "      <td>None</td>\n",
       "    </tr>\n",
       "    <tr>\n",
       "      <th>1</th>\n",
       "      <td>post-80485</td>\n",
       "      <td>28 Dic, 2009 - 7:32 pm</td>\n",
       "      <td>Suspendidas las citas en Hospital Escuela</td>\n",
       "      <td>&lt;div class=\"article-post-content\"&gt;&lt;p&gt;&lt;strong&gt;&lt;...</td>\n",
       "      <td>None</td>\n",
       "    </tr>\n",
       "    <tr>\n",
       "      <th>2</th>\n",
       "      <td>post-80555</td>\n",
       "      <td>28 Dic, 2009 - 8:25 pm</td>\n",
       "      <td>Mariscos contaminados alarman a los “porteños”</td>\n",
       "      <td>&lt;div class=\"article-post-content\"&gt;&lt;p&gt;&lt;strong&gt;&lt;...</td>\n",
       "      <td>None</td>\n",
       "    </tr>\n",
       "    <tr>\n",
       "      <th>3</th>\n",
       "      <td>post-80559</td>\n",
       "      <td>28 Dic, 2009 - 8:26 pm</td>\n",
       "      <td>Citan a 11 personas por vender pólvora</td>\n",
       "      <td>&lt;div class=\"article-post-content\"&gt;&lt;p&gt;&lt;strong&gt;&lt;...</td>\n",
       "      <td>None</td>\n",
       "    </tr>\n",
       "    <tr>\n",
       "      <th>4</th>\n",
       "      <td>post-80578</td>\n",
       "      <td>29 Dic, 2009 - 1:00 am</td>\n",
       "      <td>Con compra de granos se paliaría hambruna en e...</td>\n",
       "      <td>&lt;div class=\"article-post-content\"&gt;&lt;p&gt;&lt;strong&gt;&lt;...</td>\n",
       "      <td>None</td>\n",
       "    </tr>\n",
       "  </tbody>\n",
       "</table>\n",
       "</div>"
      ],
      "text/plain": [
       "           id                    date  \\\n",
       "0  post-80480  28 Dic, 2009 - 7:27 pm   \n",
       "1  post-80485  28 Dic, 2009 - 7:32 pm   \n",
       "2  post-80555  28 Dic, 2009 - 8:25 pm   \n",
       "3  post-80559  28 Dic, 2009 - 8:26 pm   \n",
       "4  post-80578  29 Dic, 2009 - 1:00 am   \n",
       "\n",
       "                                               title  \\\n",
       "0    Auditoría revela irregularidades en el Parlacen   \n",
       "1          Suspendidas las citas en Hospital Escuela   \n",
       "2     Mariscos contaminados alarman a los “porteños”   \n",
       "3             Citan a 11 personas por vender pólvora   \n",
       "4  Con compra de granos se paliaría hambruna en e...   \n",
       "\n",
       "                                             content  tags  \n",
       "0  <div class=\"article-post-content\"><p><strong><...  None  \n",
       "1  <div class=\"article-post-content\"><p><strong><...  None  \n",
       "2  <div class=\"article-post-content\"><p><strong><...  None  \n",
       "3  <div class=\"article-post-content\"><p><strong><...  None  \n",
       "4  <div class=\"article-post-content\"><p><strong><...  None  "
      ]
     },
     "execution_count": 17,
     "metadata": {},
     "output_type": "execute_result"
    }
   ],
   "source": [
    "base_df.head()"
   ]
  },
  {
   "cell_type": "code",
   "execution_count": 34,
   "metadata": {
    "collapsed": false
   },
   "outputs": [
    {
     "name": "stdout",
     "output_type": "stream",
     "text": [
      "Un muerto y un herido en un tiroteo ante la Agencia de Seguridad de EE.UU.\n",
      "Washington, (EFE).- Al menos una persona falleció hoy y otra resultó herida en un tiroteo ocurrido en uno de los accesos a la base militar de Fort Meade (Maryland), sede de la Agencia de Seguridad Nacional (NSA), según informó el canal local NBC 4 en EE.UU.\n",
      "Imágenes de televisión muestran dos vehículos dañados por una posible colisión, uno de ellos claramente de la policía.\n",
      "El tiroteo se produjo después de que dos personas intentaron acceder en un todoterreno a la base sin autorización.\n",
      "La cadena local NBC 4 aseguró que los ocupantes del automóvil eran dos hombres, y en el vehículo que conducían se encontraron drogas y un arma de fuego.\n",
      "Las imágenes de televisión también mostraron a un policía herido, así como una persona tapada con una sábana que yace en el suelo, aparentemente la víctima mortal del tiroteo.\n",
      "Aún se desconocen las razones del incidente y la Policía ha declinado dar detalles, porque el altercado se produjo en propiedad de la NSA, agencia estadounidense de espionaje electrónico.\n",
      "Por la base militar de Fort Meade, que acoge importantes instalaciones de inteligencia militar así como el edificio principal de la NSA, trabajan o residen 11.000 militares y 29.000 empleados civiles. EFE\n",
      "\n",
      "8\n",
      "\n",
      "Washington, (EFE).- Al menos una persona falleció hoy y otra resultó herida en un tiroteo ocurrido en uno de los accesos a la base militar de Fort Meade (Maryland), sede de la Agencia de Seguridad Nacional (NSA), según informó el canal local NBC 4 en EE.UU.\n",
      "\n",
      "Imágenes de televisión muestran dos vehículos dañados por una posible colisión, uno de ellos claramente de la policía.\n",
      "\n",
      "El tiroteo se produjo después de que dos personas intentaron acceder en un todoterreno a la base sin autorización.\n",
      "\n",
      "La cadena local NBC 4 aseguró que los ocupantes del automóvil eran dos hombres, y en el vehículo que conducían se encontraron drogas y un arma de fuego.\n",
      "\n",
      "Las imágenes de televisión también mostraron a un policía herido, así como una persona tapada con una sábana que yace en el suelo, aparentemente la víctima mortal del tiroteo.\n",
      "\n",
      "Aún se desconocen las razones del incidente y la Policía ha declinado dar detalles, porque el altercado se produjo en propiedad de la NSA, agencia estadounidense de espionaje electrónico.\n",
      "\n",
      "Por la base militar de Fort Meade, que acoge importantes instalaciones de inteligencia militar así como el edificio principal de la NSA, trabajan o residen 11.000 militares y 29.000 empleados civiles.\n",
      "\n",
      "EFE\n",
      "\n"
     ]
    }
   ],
   "source": [
    "article = base_df.loc[2298]\n",
    "print article.title\n",
    "raw_text = article[\"content\"]\n",
    "soup = bs4.BeautifulSoup(raw_text, 'html.parser')\n",
    "text = soup.get_text()\n",
    "\n",
    "print text\n",
    "sent_tokenize_list = sent_tokenize(text)\n",
    "print len(sent_tokenize_list)\n",
    "\n",
    "for sent in sent_tokenize_list:\n",
    "    print\n",
    "    print sent"
   ]
  },
  {
   "cell_type": "code",
   "execution_count": 30,
   "metadata": {
    "collapsed": false
   },
   "outputs": [
    {
     "name": "stdout",
     "output_type": "stream",
     "text": [
      "12\n",
      "\n",
      "Washington, (EFE)\n",
      "\n",
      "- Al menos una persona falleció hoy y otra resultó herida en un tiroteo ocurrido en uno de los accesos a la base militar de Fort Meade (Maryland), sede de la Agencia de Seguridad Nacional (NSA), según informó el canal local NBC 4 en EE\n",
      "\n",
      "UU\n",
      "\n",
      "Imágenes de televisión muestran dos vehículos dañados por una posible colisión, uno de ellos claramente de la policía\n",
      "\n",
      "El tiroteo se produjo después de que dos personas intentaron acceder en un todoterreno a la base sin autorización\n",
      "\n",
      "La cadena local NBC 4 aseguró que los ocupantes del automóvil eran dos hombres, y en el vehículo que conducían se encontraron drogas y un arma de fuego\n",
      "\n",
      "Las imágenes de televisión también mostraron a un policía herido, así como una persona tapada con una sábana que yace en el suelo, aparentemente la víctima mortal del tiroteo\n",
      "\n",
      "Aún se desconocen las razones del incidente y la Policía ha declinado dar detalles, porque el altercado se produjo en propiedad de la NSA, agencia estadounidense de espionaje electrónico\n",
      "\n",
      "Por la base militar de Fort Meade, que acoge importantes instalaciones de inteligencia militar así como el edificio principal de la NSA, trabajan o residen 11\n",
      "\n",
      "000 militares y 29\n",
      "\n",
      "000 empleados civiles\n",
      "\n",
      " EFE\n"
     ]
    }
   ],
   "source": [
    "article = base_df.loc[2298]\n",
    "raw_text = article[\"content\"]\n",
    "soup = bs4.BeautifulSoup(raw_text, 'html.parser')\n",
    "text = soup.get_text().replace(\"\\n\",\"\")\n",
    "sentences = text.split(\".\")\n",
    "print len(sentences)\n",
    "\n",
    "for sent in sentences:\n",
    "    print\n",
    "    print sent"
   ]
  },
  {
   "cell_type": "markdown",
   "metadata": {},
   "source": [
    "# CORRECT ALL \"EE.UU.\" instances problems"
   ]
  },
  {
   "cell_type": "code",
   "execution_count": 39,
   "metadata": {
    "collapsed": false
   },
   "outputs": [
    {
     "data": {
      "text/plain": [
       "[{'id': 1, 'title': 'Article 1'}]"
      ]
     },
     "execution_count": 39,
     "metadata": {},
     "output_type": "execute_result"
    }
   ],
   "source": [
    "import sqlite3\n",
    "import json\n",
    "conn = sqlite3.connect('../articles.db')\n",
    "cursor = conn.execute('''\n",
    "    SELECT ID from ARTICLE\n",
    "    WHERE ID = 1 \n",
    "    '''\n",
    ")\n",
    "articles = [{\"id\": row[0], \"title\": \"Article \"+str(row[0]) } for row in cursor]\n",
    "articles"
   ]
  },
  {
   "cell_type": "code",
   "execution_count": 76,
   "metadata": {
    "collapsed": false
   },
   "outputs": [
    {
     "data": {
      "text/plain": [
       "0"
      ]
     },
     "execution_count": 76,
     "metadata": {},
     "output_type": "execute_result"
    }
   ],
   "source": [
    "def getArticleContent(art_id, conn):\n",
    "    values = [art_id]\n",
    "    cursor = conn.execute('''\n",
    "    SELECT SENTENCES  from ARTICLE\n",
    "    WHERE ID = ?\n",
    "    ''',values\n",
    "    )\n",
    "    \n",
    "    for row in cursor:\n",
    "        article = {\n",
    "            \"sentences\": json.loads(row[0]),\n",
    "        }\n",
    "    return article\n",
    "\n",
    "def findEEUU(art_id,conn):\n",
    "    article = getArticleContent(art_id, conn)\n",
    "    \n",
    "    for sent in article[\"sentences\"]:\n",
    "        for word in sent:\n",
    "            if word[0] == \"EE\" or word[0] == \"UU\":\n",
    "                return True\n",
    "    \n",
    "    return False\n",
    "    \n",
    "eeuu_articles = []\n",
    "for i in range(2500):\n",
    "    if findEEUU(i,conn):\n",
    "        eeuu_articles.append(i)\n",
    "\n",
    "len(eeuu_articles)"
   ]
  },
  {
   "cell_type": "code",
   "execution_count": 77,
   "metadata": {
    "collapsed": false
   },
   "outputs": [
    {
     "data": {
      "text/plain": [
       "[]"
      ]
     },
     "execution_count": 77,
     "metadata": {},
     "output_type": "execute_result"
    }
   ],
   "source": [
    "eeuu_articles"
   ]
  },
  {
   "cell_type": "code",
   "execution_count": 69,
   "metadata": {
    "collapsed": true
   },
   "outputs": [],
   "source": [
    "def updateArticle(art_id,sentences,conn):\n",
    "    sentences = json.dumps(sentences)\n",
    "    values = ( sentences, art_id )\n",
    "\n",
    "    conn.execute('''\n",
    "    UPDATE ARTICLE set  SENTENCES = ? where ID=?\n",
    "    ''', values)\n",
    "    conn.commit()\n",
    "    print \"Updated Article\""
   ]
  },
  {
   "cell_type": "code",
   "execution_count": 75,
   "metadata": {
    "collapsed": false,
    "scrolled": true
   },
   "outputs": [
    {
     "name": "stdout",
     "output_type": "stream",
     "text": [
      "-----\n",
      "article 17\n",
      "- Get Article\n",
      "- Correct Article\n",
      "- Update Article\n",
      "Updated Article\n",
      "-----\n",
      "article 72\n",
      "- Get Article\n",
      "- Correct Article\n",
      "- Update Article\n",
      "Updated Article\n",
      "-----\n",
      "article 208\n",
      "- Get Article\n",
      "- Correct Article\n",
      "- Update Article\n",
      "Updated Article\n",
      "-----\n",
      "article 306\n",
      "- Get Article\n",
      "- Correct Article\n",
      "- Update Article\n",
      "Updated Article\n",
      "-----\n",
      "article 307\n",
      "- Get Article\n",
      "- Correct Article\n",
      "- Update Article\n",
      "Updated Article\n",
      "-----\n",
      "article 316\n",
      "- Get Article\n",
      "- Correct Article\n",
      "- Update Article\n",
      "Updated Article\n",
      "-----\n",
      "article 317\n",
      "- Get Article\n",
      "- Correct Article\n",
      "- Update Article\n",
      "Updated Article\n",
      "-----\n",
      "article 325\n",
      "- Get Article\n",
      "- Correct Article\n",
      "- Update Article\n",
      "Updated Article\n",
      "-----\n",
      "article 341\n",
      "- Get Article\n",
      "- Correct Article\n",
      "- Update Article\n",
      "Updated Article\n",
      "-----\n",
      "article 350\n",
      "- Get Article\n",
      "- Correct Article\n",
      "- Update Article\n",
      "Updated Article\n",
      "-----\n",
      "article 351\n",
      "- Get Article\n",
      "- Correct Article\n",
      "- Update Article\n",
      "Updated Article\n",
      "-----\n",
      "article 352\n",
      "- Get Article\n",
      "- Correct Article\n",
      "- Update Article\n",
      "Updated Article\n",
      "-----\n",
      "article 455\n",
      "- Get Article\n",
      "- Correct Article\n",
      "- Update Article\n",
      "Updated Article\n",
      "-----\n",
      "article 480\n",
      "- Get Article\n",
      "- Correct Article\n",
      "- Update Article\n",
      "Updated Article\n",
      "-----\n",
      "article 547\n",
      "- Get Article\n",
      "- Correct Article\n",
      "- Update Article\n",
      "Updated Article\n",
      "-----\n",
      "article 582\n",
      "- Get Article\n",
      "- Correct Article\n",
      "- Update Article\n",
      "Updated Article\n",
      "-----\n",
      "article 722\n",
      "- Get Article\n",
      "- Correct Article\n",
      "- Update Article\n",
      "Updated Article\n",
      "-----\n",
      "article 905\n",
      "- Get Article\n",
      "- Correct Article\n",
      "- Update Article\n",
      "Updated Article\n",
      "-----\n",
      "article 992\n",
      "- Get Article\n",
      "- Correct Article\n",
      "- Update Article\n",
      "Updated Article\n",
      "-----\n",
      "article 994\n",
      "- Get Article\n",
      "- Correct Article\n",
      "- Update Article\n",
      "Updated Article\n",
      "-----\n",
      "article 1018\n",
      "- Get Article\n",
      "- Correct Article\n",
      "- Update Article\n",
      "Updated Article\n",
      "-----\n",
      "article 1037\n",
      "- Get Article\n",
      "- Correct Article\n",
      "- Update Article\n",
      "Updated Article\n",
      "-----\n",
      "article 1120\n",
      "- Get Article\n",
      "- Correct Article\n",
      "- Update Article\n",
      "Updated Article\n",
      "-----\n",
      "article 1121\n",
      "- Get Article\n",
      "- Correct Article\n",
      "- Update Article\n",
      "Updated Article\n",
      "-----\n",
      "article 1181\n",
      "- Get Article\n",
      "- Correct Article\n",
      "- Update Article\n",
      "Updated Article\n",
      "-----\n",
      "article 1191\n",
      "- Get Article\n",
      "- Correct Article\n",
      "- Update Article\n",
      "Updated Article\n",
      "-----\n",
      "article 1275\n",
      "- Get Article\n",
      "- Correct Article\n",
      "- Update Article\n",
      "Updated Article\n",
      "-----\n",
      "article 1305\n",
      "- Get Article\n",
      "- Correct Article\n",
      "- Update Article\n",
      "Updated Article\n",
      "-----\n",
      "article 1336\n",
      "- Get Article\n",
      "- Correct Article\n",
      "- Update Article\n",
      "Updated Article\n",
      "-----\n",
      "article 1385\n",
      "- Get Article\n",
      "- Correct Article\n",
      "- Update Article\n",
      "Updated Article\n",
      "-----\n",
      "article 1440\n",
      "- Get Article\n",
      "- Correct Article\n",
      "- Update Article\n",
      "Updated Article\n",
      "-----\n",
      "article 1543\n",
      "- Get Article\n",
      "- Correct Article\n",
      "- Update Article\n",
      "Updated Article\n",
      "-----\n",
      "article 1583\n",
      "- Get Article\n",
      "- Correct Article\n",
      "- Update Article\n",
      "Updated Article\n",
      "-----\n",
      "article 1600\n",
      "- Get Article\n",
      "- Correct Article\n",
      "- Update Article\n",
      "Updated Article\n",
      "-----\n",
      "article 1655\n",
      "- Get Article\n",
      "- Correct Article\n",
      "- Update Article\n",
      "Updated Article\n",
      "-----\n",
      "article 1665\n",
      "- Get Article\n",
      "- Correct Article\n",
      "- Update Article\n",
      "Updated Article\n",
      "-----\n",
      "article 1683\n",
      "- Get Article\n",
      "- Correct Article\n",
      "- Update Article\n",
      "Updated Article\n",
      "-----\n",
      "article 1779\n",
      "- Get Article\n",
      "- Correct Article\n",
      "- Update Article\n",
      "Updated Article\n",
      "-----\n",
      "article 1822\n",
      "- Get Article\n",
      "- Correct Article\n",
      "- Update Article\n",
      "Updated Article\n",
      "-----\n",
      "article 1876\n",
      "- Get Article\n",
      "- Correct Article\n",
      "- Update Article\n",
      "Updated Article\n",
      "-----\n",
      "article 1878\n",
      "- Get Article\n",
      "- Correct Article\n",
      "- Update Article\n",
      "Updated Article\n",
      "-----\n",
      "article 1937\n",
      "- Get Article\n",
      "- Correct Article\n",
      "- Update Article\n",
      "Updated Article\n",
      "-----\n",
      "article 1963\n",
      "- Get Article\n",
      "- Correct Article\n",
      "- Update Article\n",
      "Updated Article\n",
      "-----\n",
      "article 2081\n",
      "- Get Article\n",
      "- Correct Article\n",
      "- Update Article\n",
      "Updated Article\n",
      "-----\n",
      "article 2083\n",
      "- Get Article\n",
      "- Correct Article\n",
      "- Update Article\n",
      "Updated Article\n",
      "-----\n",
      "article 2135\n",
      "- Get Article\n",
      "- Correct Article\n",
      "- Update Article\n",
      "Updated Article\n",
      "-----\n",
      "article 2164\n",
      "- Get Article\n",
      "- Correct Article\n",
      "- Update Article\n",
      "Updated Article\n",
      "-----\n",
      "article 2253\n",
      "- Get Article\n",
      "- Correct Article\n",
      "- Update Article\n",
      "Updated Article\n",
      "-----\n",
      "article 2298\n",
      "- Get Article\n",
      "- Correct Article\n",
      "- Update Article\n",
      "Updated Article\n",
      "-----\n",
      "article 2325\n",
      "- Get Article\n",
      "- Correct Article\n",
      "- Update Article\n",
      "Updated Article\n",
      "-----\n",
      "article 2346\n",
      "- Get Article\n",
      "- Correct Article\n",
      "- Update Article\n",
      "Updated Article\n",
      "-----\n",
      "article 2442\n",
      "- Get Article\n",
      "- Correct Article\n",
      "- Update Article\n",
      "Updated Article\n"
     ]
    }
   ],
   "source": [
    "def correct(art_id, conn):\n",
    "    print \"- Get Article\"\n",
    "    article = getArticleContent(art_id, conn)\n",
    "    \n",
    "    print \"- Correct Article\"\n",
    "    last = \"\"\n",
    "    last_pos = -1\n",
    "    last_sent = -1\n",
    "    for sent_id, sent in enumerate(article[\"sentences\"]):\n",
    "        for pos, word in enumerate(sent):\n",
    "            if word[0] == \"UU\" and last == \"EE\":\n",
    "                article[\"sentences\"][last_sent][last_pos][0] += \".UU.\"\n",
    "                del article[\"sentences\"][sent_id][pos]\n",
    "            last = word[0]\n",
    "            last_pos = pos\n",
    "            last_sent = sent_id\n",
    "\n",
    "#     for sent_id, sent in enumerate(article[\"sentences\"]): \n",
    "#         print \n",
    "#         print \" \".join([word[0] for word in sent])\n",
    "\n",
    "    print \"- Update Article\"\n",
    "    updateArticle(art_id,article[\"sentences\"],conn)\n",
    "        \n",
    "for art_id in  eeuu_articles:    \n",
    "    print \"-----\"\n",
    "    print \"article %i\" %art_id\n",
    "    correct(art_id, conn)             "
   ]
  },
  {
   "cell_type": "markdown",
   "metadata": {},
   "source": [
    "# Correct Titles"
   ]
  },
  {
   "cell_type": "code",
   "execution_count": 105,
   "metadata": {
    "collapsed": false
   },
   "outputs": [
    {
     "data": {
      "text/plain": [
       "7"
      ]
     },
     "execution_count": 105,
     "metadata": {},
     "output_type": "execute_result"
    }
   ],
   "source": [
    "def getArticleTitle(art_id, conn):\n",
    "    values = [art_id]\n",
    "    cursor = conn.execute('''\n",
    "    SELECT TITLE  from ARTICLE\n",
    "    WHERE ID = ?\n",
    "    ''',values\n",
    "    )\n",
    "    \n",
    "    for row in cursor:\n",
    "        article = {\n",
    "            \"title\": json.loads(row[0]),\n",
    "        }\n",
    "    return article\n",
    "\n",
    "def findEEUU_TITLE(art_id,conn):\n",
    "    article = getArticleTitle(art_id, conn)\n",
    "    \n",
    "    for pos, word in enumerate(article[\"title\"]):\n",
    "        if word[0] == \"EE\" and article[\"title\"][pos+1][0] == \".\" and article[\"title\"][pos+2][0] == \"UU\":\n",
    "            return True\n",
    "    return False\n",
    "    \n",
    "eeuu_articles = []\n",
    "for i in range(2500):\n",
    "    if findEEUU_TITLE(i,conn):\n",
    "        eeuu_articles.append(i)\n",
    "\n",
    "len(eeuu_articles)"
   ]
  },
  {
   "cell_type": "code",
   "execution_count": 106,
   "metadata": {
    "collapsed": false
   },
   "outputs": [
    {
     "data": {
      "text/plain": [
       "[605, 992, 1637, 2056, 2135, 2298, 2480]"
      ]
     },
     "execution_count": 106,
     "metadata": {},
     "output_type": "execute_result"
    }
   ],
   "source": [
    "eeuu_articles"
   ]
  },
  {
   "cell_type": "code",
   "execution_count": 99,
   "metadata": {
    "collapsed": true
   },
   "outputs": [],
   "source": [
    "def updateArticleTitle(art_id,title,conn):\n",
    "    title = json.dumps(title)\n",
    "    values = ( title, art_id )\n",
    "\n",
    "    conn.execute('''\n",
    "    UPDATE ARTICLE set  TITLE = ? where ID=?\n",
    "    ''', values)\n",
    "    conn.commit()\n",
    "    print \"Updated Article\""
   ]
  },
  {
   "cell_type": "code",
   "execution_count": 107,
   "metadata": {
    "collapsed": false
   },
   "outputs": [
    {
     "name": "stdout",
     "output_type": "stream",
     "text": [
      "-----\n",
      "article 605\n",
      "- Get Article\n",
      "- Correct Article\n",
      "- Update Article\n",
      "Updated Article\n",
      "-----\n",
      "article 992\n",
      "- Get Article\n",
      "- Correct Article\n",
      "- Update Article\n",
      "Updated Article\n",
      "-----\n",
      "article 1637\n",
      "- Get Article\n",
      "- Correct Article\n",
      "- Update Article\n",
      "Updated Article\n",
      "-----\n",
      "article 2056\n",
      "- Get Article\n",
      "- Correct Article\n",
      "- Update Article\n",
      "Updated Article\n",
      "-----\n",
      "article 2135\n",
      "- Get Article\n",
      "- Correct Article\n",
      "- Update Article\n",
      "Updated Article\n",
      "-----\n",
      "article 2298\n",
      "- Get Article\n",
      "- Correct Article\n",
      "- Update Article\n",
      "Updated Article\n",
      "-----\n",
      "article 2480\n",
      "- Get Article\n",
      "- Correct Article\n",
      "- Update Article\n",
      "Updated Article\n"
     ]
    }
   ],
   "source": [
    "def correct_title(art_id, conn):\n",
    "    print \"- Get Article\"\n",
    "    article = getArticleTitle(art_id, conn)\n",
    "    \n",
    "    print \"- Correct Article\"\n",
    "    last = \"\"\n",
    "\n",
    "    for pos, word in enumerate(article[\"title\"]):\n",
    "        if word[0] == \"UU\" and last == \".\":\n",
    "            article[\"title\"][pos-2][0] += \".UU.\"\n",
    "            if article[\"title\"][pos+1][0] == \".\":\n",
    "                del article[\"title\"][pos+1]\n",
    "            del article[\"title\"][pos]\n",
    "            del article[\"title\"][pos-1]\n",
    "        last = word[0]\n",
    "\n",
    "#     print \" \".join([word[0] for word in article[\"title\"]])\n",
    "    print \"- Update Article\"\n",
    "    updateArticleTitle(art_id,article[\"title\"],conn)\n",
    "        \n",
    "for art_id in  eeuu_articles:    \n",
    "    print \"-----\"\n",
    "    print \"article %i\" %art_id\n",
    "    correct_title(art_id, conn)   \n",
    "\n"
   ]
  },
  {
   "cell_type": "code",
   "execution_count": 103,
   "metadata": {
    "collapsed": false
   },
   "outputs": [
    {
     "name": "stdout",
     "output_type": "stream",
     "text": [
      "Updated Article\n"
     ]
    }
   ],
   "source": [
    "conn2 = sqlite3.connect('../articles_backup.db')\n",
    "\n",
    "article = getArticleContent(132, conn2)\n",
    "updateArticle(132,article[\"sentences\"],conn)"
   ]
  },
  {
   "cell_type": "code",
   "execution_count": null,
   "metadata": {
    "collapsed": true
   },
   "outputs": [],
   "source": []
  }
 ],
 "metadata": {
  "anaconda-cloud": {},
  "kernelspec": {
   "display_name": "Python [conda root]",
   "language": "python",
   "name": "conda-root-py"
  },
  "language_info": {
   "codemirror_mode": {
    "name": "ipython",
    "version": 2
   },
   "file_extension": ".py",
   "mimetype": "text/x-python",
   "name": "python",
   "nbconvert_exporter": "python",
   "pygments_lexer": "ipython2",
   "version": "2.7.12"
  }
 },
 "nbformat": 4,
 "nbformat_minor": 1
}
