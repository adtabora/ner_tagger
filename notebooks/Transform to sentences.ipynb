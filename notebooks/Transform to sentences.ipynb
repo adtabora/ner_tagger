{
 "cells": [
  {
   "cell_type": "code",
   "execution_count": 4,
   "metadata": {
    "collapsed": true
   },
   "outputs": [],
   "source": [
    "import pandas as pd\n",
    "import ast \n"
   ]
  },
  {
   "cell_type": "code",
   "execution_count": 3,
   "metadata": {
    "collapsed": false
   },
   "outputs": [
    {
     "data": {
      "text/html": [
       "<div>\n",
       "<table border=\"1\" class=\"dataframe\">\n",
       "  <thead>\n",
       "    <tr style=\"text-align: right;\">\n",
       "      <th></th>\n",
       "      <th>article_id</th>\n",
       "      <th>title</th>\n",
       "      <th>content</th>\n",
       "      <th>relationships</th>\n",
       "    </tr>\n",
       "  </thead>\n",
       "  <tbody>\n",
       "    <tr>\n",
       "      <th>0</th>\n",
       "      <td>11</td>\n",
       "      <td>[[u'Pasajeros', u'none'], [u'asaltantes', u'no...</td>\n",
       "      <td>[[[u'PUERTO', u'B-City'], [u'CORTES', u'I-City...</td>\n",
       "      <td>[[{u'tag': u'B-City', u'word': u'puerto cortes...</td>\n",
       "    </tr>\n",
       "    <tr>\n",
       "      <th>1</th>\n",
       "      <td>12</td>\n",
       "      <td>[[u'Fallece', u'none'], [u'comerciante', u'non...</td>\n",
       "      <td>[[[u'JUTICALPA', u'B-City'], [u',', u'none'], ...</td>\n",
       "      <td>[[{u'tag': u'B-City', u'word': u'juticalpa'}, ...</td>\n",
       "    </tr>\n",
       "    <tr>\n",
       "      <th>2</th>\n",
       "      <td>13</td>\n",
       "      <td>[[u'Por', u'none'], [u'venganza', u'none'], [u...</td>\n",
       "      <td>[[[u'EL', u'B-City'], [u'NEGRITO', u'I-City'],...</td>\n",
       "      <td>[[{u'tag': u'B-City', u'word': u'el negrito'},...</td>\n",
       "    </tr>\n",
       "    <tr>\n",
       "      <th>3</th>\n",
       "      <td>16</td>\n",
       "      <td>[[u'Campesinos', u'none'], [u'hieren', u'none'...</td>\n",
       "      <td>[[[u'COLON', u'B-State']], [[u'-', u'none'], [...</td>\n",
       "      <td>[[{u'tag': u'B-City', u'word': u'sonaguera'}, ...</td>\n",
       "    </tr>\n",
       "    <tr>\n",
       "      <th>4</th>\n",
       "      <td>20</td>\n",
       "      <td>[[u'Cae', u'none'], [u'banda', u'none'], [u'de...</td>\n",
       "      <td>[[[u'TEGUCIGALPA', u'B-City']], [[u'-', u'none...</td>\n",
       "      <td>[[{u'tag': u'B-Col', u'word': u'20 de noviembr...</td>\n",
       "    </tr>\n",
       "  </tbody>\n",
       "</table>\n",
       "</div>"
      ],
      "text/plain": [
       "   article_id                                              title  \\\n",
       "0          11  [[u'Pasajeros', u'none'], [u'asaltantes', u'no...   \n",
       "1          12  [[u'Fallece', u'none'], [u'comerciante', u'non...   \n",
       "2          13  [[u'Por', u'none'], [u'venganza', u'none'], [u...   \n",
       "3          16  [[u'Campesinos', u'none'], [u'hieren', u'none'...   \n",
       "4          20  [[u'Cae', u'none'], [u'banda', u'none'], [u'de...   \n",
       "\n",
       "                                             content  \\\n",
       "0  [[[u'PUERTO', u'B-City'], [u'CORTES', u'I-City...   \n",
       "1  [[[u'JUTICALPA', u'B-City'], [u',', u'none'], ...   \n",
       "2  [[[u'EL', u'B-City'], [u'NEGRITO', u'I-City'],...   \n",
       "3  [[[u'COLON', u'B-State']], [[u'-', u'none'], [...   \n",
       "4  [[[u'TEGUCIGALPA', u'B-City']], [[u'-', u'none...   \n",
       "\n",
       "                                       relationships  \n",
       "0  [[{u'tag': u'B-City', u'word': u'puerto cortes...  \n",
       "1  [[{u'tag': u'B-City', u'word': u'juticalpa'}, ...  \n",
       "2  [[{u'tag': u'B-City', u'word': u'el negrito'},...  \n",
       "3  [[{u'tag': u'B-City', u'word': u'sonaguera'}, ...  \n",
       "4  [[{u'tag': u'B-Col', u'word': u'20 de noviembr...  "
      ]
     },
     "execution_count": 3,
     "metadata": {},
     "output_type": "execute_result"
    }
   ],
   "source": [
    "articles = pd.read_csv(\"../files/criminal_hn_articles.csv\")\n",
    "articles.head()"
   ]
  },
  {
   "cell_type": "code",
   "execution_count": 5,
   "metadata": {
    "collapsed": true
   },
   "outputs": [],
   "source": [
    "articles.loc[:,\"title\"] = articles.title.apply(lambda x: ast.literal_eval(x))\n",
    "articles.loc[:,\"content\"] = articles.content.apply(lambda x: ast.literal_eval(x))"
   ]
  },
  {
   "cell_type": "code",
   "execution_count": 24,
   "metadata": {
    "collapsed": false
   },
   "outputs": [
    {
     "data": {
      "text/html": [
       "<div>\n",
       "<table border=\"1\" class=\"dataframe\">\n",
       "  <thead>\n",
       "    <tr style=\"text-align: right;\">\n",
       "      <th></th>\n",
       "      <th>art_id</th>\n",
       "      <th>has_entity</th>\n",
       "      <th>sent_id</th>\n",
       "      <th>sentence</th>\n",
       "    </tr>\n",
       "  </thead>\n",
       "  <tbody>\n",
       "    <tr>\n",
       "      <th>0</th>\n",
       "      <td>11</td>\n",
       "      <td>True</td>\n",
       "      <td>0</td>\n",
       "      <td>PUERTO CORTES , Cortés</td>\n",
       "    </tr>\n",
       "    <tr>\n",
       "      <th>1</th>\n",
       "      <td>11</td>\n",
       "      <td>True</td>\n",
       "      <td>1</td>\n",
       "      <td>- Un taxista perdió la vida de varios balazos ...</td>\n",
       "    </tr>\n",
       "    <tr>\n",
       "      <th>2</th>\n",
       "      <td>11</td>\n",
       "      <td>True</td>\n",
       "      <td>3</td>\n",
       "      <td>A eso de las 4 : 30 de la tarde del pasado dom...</td>\n",
       "    </tr>\n",
       "    <tr>\n",
       "      <th>3</th>\n",
       "      <td>11</td>\n",
       "      <td>True</td>\n",
       "      <td>4</td>\n",
       "      <td>Cuando se acercaban al sitio conocido como “ T...</td>\n",
       "    </tr>\n",
       "    <tr>\n",
       "      <th>4</th>\n",
       "      <td>12</td>\n",
       "      <td>True</td>\n",
       "      <td>0</td>\n",
       "      <td>JUTICALPA , Olancho</td>\n",
       "    </tr>\n",
       "  </tbody>\n",
       "</table>\n",
       "</div>"
      ],
      "text/plain": [
       "   art_id has_entity  sent_id  \\\n",
       "0      11       True        0   \n",
       "1      11       True        1   \n",
       "2      11       True        3   \n",
       "3      11       True        4   \n",
       "4      12       True        0   \n",
       "\n",
       "                                            sentence  \n",
       "0                             PUERTO CORTES , Cortés  \n",
       "1  - Un taxista perdió la vida de varios balazos ...  \n",
       "2  A eso de las 4 : 30 de la tarde del pasado dom...  \n",
       "3  Cuando se acercaban al sitio conocido como “ T...  \n",
       "4                                JUTICALPA , Olancho  "
      ]
     },
     "execution_count": 24,
     "metadata": {},
     "output_type": "execute_result"
    }
   ],
   "source": [
    "data = []\n",
    "for _, article in articles.iterrows():\n",
    "    #title\n",
    "    has_entity =  \"B\" in [w[1][0] for w in article.title]\n",
    "\n",
    "    row = {\n",
    "        \"art_id\": article.article_id,\n",
    "        \"sent_id\": -1,\n",
    "        \"sentence\": \" \".join([w[0] for w in article.title]),\n",
    "        \"has_entity\": has_entity\n",
    "    }\n",
    "    if has_entity:\n",
    "        data.append(row)\n",
    "    \n",
    "    #content\n",
    "    for sent_id, sent in enumerate(article.content):\n",
    "        has_entity =  \"B\" in [w[1][0] for w in sent]\n",
    "        row = {\n",
    "            \"art_id\": article.article_id,\n",
    "            \"sent_id\": sent_id,\n",
    "            \"sentence\": \" \".join([w[0] for w in sent]),\n",
    "            \"has_entity\": has_entity\n",
    "        }\n",
    "        if has_entity:\n",
    "            data.append(row)\n",
    "    \n",
    "sentences_df = pd.DataFrame(data)\n",
    "sentences_df.head()"
   ]
  },
  {
   "cell_type": "code",
   "execution_count": 25,
   "metadata": {
    "collapsed": false
   },
   "outputs": [
    {
     "data": {
      "text/html": [
       "<div>\n",
       "<table border=\"1\" class=\"dataframe\">\n",
       "  <thead>\n",
       "    <tr style=\"text-align: right;\">\n",
       "      <th></th>\n",
       "      <th>art_id</th>\n",
       "      <th>has_entity</th>\n",
       "      <th>sent_id</th>\n",
       "      <th>sentence</th>\n",
       "    </tr>\n",
       "  </thead>\n",
       "  <tbody>\n",
       "    <tr>\n",
       "      <th>576</th>\n",
       "      <td>2475</td>\n",
       "      <td>True</td>\n",
       "      <td>2</td>\n",
       "      <td>Los detenidos se dedicarían a cobrar extorsion...</td>\n",
       "    </tr>\n",
       "    <tr>\n",
       "      <th>577</th>\n",
       "      <td>2485</td>\n",
       "      <td>True</td>\n",
       "      <td>-1</td>\n",
       "      <td>Tres heridos deja balacera en Tocoa</td>\n",
       "    </tr>\n",
       "    <tr>\n",
       "      <th>578</th>\n",
       "      <td>2485</td>\n",
       "      <td>True</td>\n",
       "      <td>0</td>\n",
       "      <td>Tres personas heridas dejó una balacera ocurri...</td>\n",
       "    </tr>\n",
       "    <tr>\n",
       "      <th>579</th>\n",
       "      <td>2500</td>\n",
       "      <td>True</td>\n",
       "      <td>-1</td>\n",
       "      <td>Fallece uno de los atacados en Tocoa</td>\n",
       "    </tr>\n",
       "    <tr>\n",
       "      <th>580</th>\n",
       "      <td>2500</td>\n",
       "      <td>True</td>\n",
       "      <td>0</td>\n",
       "      <td>Una de las personas que resultó herida este mi...</td>\n",
       "    </tr>\n",
       "  </tbody>\n",
       "</table>\n",
       "</div>"
      ],
      "text/plain": [
       "     art_id has_entity  sent_id  \\\n",
       "576    2475       True        2   \n",
       "577    2485       True       -1   \n",
       "578    2485       True        0   \n",
       "579    2500       True       -1   \n",
       "580    2500       True        0   \n",
       "\n",
       "                                              sentence  \n",
       "576  Los detenidos se dedicarían a cobrar extorsion...  \n",
       "577                Tres heridos deja balacera en Tocoa  \n",
       "578  Tres personas heridas dejó una balacera ocurri...  \n",
       "579               Fallece uno de los atacados en Tocoa  \n",
       "580  Una de las personas que resultó herida este mi...  "
      ]
     },
     "execution_count": 25,
     "metadata": {},
     "output_type": "execute_result"
    }
   ],
   "source": [
    "sentences_df.tail()"
   ]
  },
  {
   "cell_type": "code",
   "execution_count": 27,
   "metadata": {
    "collapsed": false
   },
   "outputs": [],
   "source": [
    "sentences_df.to_csv(\"../files/criminal_sentences.csv\",index=False, encoding='utf-8')"
   ]
  }
 ],
 "metadata": {
  "anaconda-cloud": {},
  "kernelspec": {
   "display_name": "Python [conda root]",
   "language": "python",
   "name": "conda-root-py"
  },
  "language_info": {
   "codemirror_mode": {
    "name": "ipython",
    "version": 2
   },
   "file_extension": ".py",
   "mimetype": "text/x-python",
   "name": "python",
   "nbconvert_exporter": "python",
   "pygments_lexer": "ipython2",
   "version": "2.7.12"
  }
 },
 "nbformat": 4,
 "nbformat_minor": 1
}
